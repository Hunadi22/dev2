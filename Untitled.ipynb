{
 "cells": [
  {
   "cell_type": "code",
   "execution_count": 31,
   "id": "42444826",
   "metadata": {},
   "outputs": [
    {
     "ename": "ModuleNotFoundError",
     "evalue": "No module named 'wordcloud'",
     "output_type": "error",
     "traceback": [
      "\u001b[1;31m---------------------------------------------------------------------------\u001b[0m",
      "\u001b[1;31mModuleNotFoundError\u001b[0m                       Traceback (most recent call last)",
      "\u001b[1;32m~\\AppData\\Local\\Temp/ipykernel_7072/276274211.py\u001b[0m in \u001b[0;36m<module>\u001b[1;34m\u001b[0m\n\u001b[0;32m      9\u001b[0m \u001b[1;32mimport\u001b[0m \u001b[0mmatplotlib\u001b[0m\u001b[1;33m.\u001b[0m\u001b[0mpyplot\u001b[0m \u001b[1;32mas\u001b[0m \u001b[0mplt\u001b[0m\u001b[1;33m\u001b[0m\u001b[1;33m\u001b[0m\u001b[0m\n\u001b[0;32m     10\u001b[0m \u001b[1;33m\u001b[0m\u001b[0m\n\u001b[1;32m---> 11\u001b[1;33m \u001b[1;32mfrom\u001b[0m \u001b[0mwordcloud\u001b[0m \u001b[1;32mimport\u001b[0m \u001b[0mWordCloud\u001b[0m\u001b[1;33m\u001b[0m\u001b[1;33m\u001b[0m\u001b[0m\n\u001b[0m\u001b[0;32m     12\u001b[0m \u001b[1;32mfrom\u001b[0m \u001b[0mstatsmodels\u001b[0m\u001b[1;33m.\u001b[0m\u001b[0mgraphics\u001b[0m\u001b[1;33m.\u001b[0m\u001b[0mcorrelation\u001b[0m \u001b[1;32mimport\u001b[0m \u001b[0mplot_corr\u001b[0m\u001b[1;33m\u001b[0m\u001b[1;33m\u001b[0m\u001b[0m\n\u001b[0;32m     13\u001b[0m \u001b[1;33m\u001b[0m\u001b[0m\n",
      "\u001b[1;31mModuleNotFoundError\u001b[0m: No module named 'wordcloud'"
     ]
    }
   ],
   "source": [
    "# Libraries for data loading, data manipulation\n",
    "import pandas as pd\n",
    "import numpy as np\n",
    "\n",
    "#Libraries for Data visualization\n",
    "import matplotlib.pyplot as plt\n",
    "import seaborn as sns\n",
    "sns.set(font_scale = 1)\n",
    "import matplotlib.pyplot as plt\n",
    "\n",
    "from wordcloud import WordCloud\n",
    "from statsmodels.graphics.correlation import plot_corr\n",
    "\n",
    "#Libraries to clean the text\n",
    "import contractions #This expands contraction such as 'don't' to 'do not'\n",
    "import regex as re\n",
    "import string\n",
    "import nltk\n",
    "from nltk.tokenize import TreebankWordTokenizer\n",
    "from nltk.stem import WordNetLemmatizer\n",
    "from nltk.corpus import stopwords\n",
    "import emoji #allows us to manipulate with emojis\n",
    "\n",
    "\n",
    "import numpy as np\n",
    "\n",
    "\n",
    "\n",
    "\n",
    "# Setting global constants to ensure notebook results are reproducible\n",
    "# PARAMETER_CONSTANT = ###"
   ]
  },
  {
   "cell_type": "code",
   "execution_count": 32,
   "id": "8172d71a",
   "metadata": {},
   "outputs": [
    {
     "name": "stdout",
     "output_type": "stream",
     "text": [
      "C:\\Users\\hunad\\anaconda3\\python.exe\n"
     ]
    }
   ],
   "source": [
    "import sys\n",
    "print(sys.executable)"
   ]
  },
  {
   "cell_type": "code",
   "execution_count": 33,
   "id": "1d347f3f",
   "metadata": {},
   "outputs": [
    {
     "name": "stdout",
     "output_type": "stream",
     "text": [
      "Collecting wordcloud\n",
      "  Using cached wordcloud-1.8.1.tar.gz (220 kB)\n",
      "Requirement already satisfied: numpy>=1.6.1 in c:\\users\\hunad\\anaconda3\\lib\\site-packages (from wordcloud) (1.20.3)\n",
      "Requirement already satisfied: pillow in c:\\users\\hunad\\anaconda3\\lib\\site-packages (from wordcloud) (8.4.0)\n",
      "Requirement already satisfied: matplotlib in c:\\users\\hunad\\anaconda3\\lib\\site-packages (from wordcloud) (3.4.3)\n",
      "Requirement already satisfied: kiwisolver>=1.0.1 in c:\\users\\hunad\\anaconda3\\lib\\site-packages (from matplotlib->wordcloud) (1.3.1)\n",
      "Requirement already satisfied: cycler>=0.10 in c:\\users\\hunad\\anaconda3\\lib\\site-packages (from matplotlib->wordcloud) (0.10.0)\n",
      "Requirement already satisfied: pyparsing>=2.2.1 in c:\\users\\hunad\\anaconda3\\lib\\site-packages (from matplotlib->wordcloud) (3.0.4)\n",
      "Requirement already satisfied: python-dateutil>=2.7 in c:\\users\\hunad\\anaconda3\\lib\\site-packages (from matplotlib->wordcloud) (2.8.2)\n",
      "Requirement already satisfied: six in c:\\users\\hunad\\anaconda3\\lib\\site-packages (from cycler>=0.10->matplotlib->wordcloud) (1.16.0)\n",
      "Building wheels for collected packages: wordcloud\n",
      "  Building wheel for wordcloud (setup.py): started\n",
      "  Building wheel for wordcloud (setup.py): finished with status 'error'\n",
      "  Running setup.py clean for wordcloud\n",
      "Failed to build wordcloud\n",
      "Installing collected packages: wordcloud\n",
      "    Running setup.py install for wordcloud: started\n",
      "    Running setup.py install for wordcloud: finished with status 'error'\n"
     ]
    },
    {
     "name": "stderr",
     "output_type": "stream",
     "text": [
      "  ERROR: Command errored out with exit status 1:\n",
      "   command: 'C:\\Users\\hunad\\anaconda3\\python.exe' -u -c 'import io, os, sys, setuptools, tokenize; sys.argv[0] = '\"'\"'C:\\\\Users\\\\hunad\\\\AppData\\\\Local\\\\Temp\\\\pip-install-ihb6t6ye\\\\wordcloud_907be1b19e1742e79eca1fc81c80fb74\\\\setup.py'\"'\"'; __file__='\"'\"'C:\\\\Users\\\\hunad\\\\AppData\\\\Local\\\\Temp\\\\pip-install-ihb6t6ye\\\\wordcloud_907be1b19e1742e79eca1fc81c80fb74\\\\setup.py'\"'\"';f = getattr(tokenize, '\"'\"'open'\"'\"', open)(__file__) if os.path.exists(__file__) else io.StringIO('\"'\"'from setuptools import setup; setup()'\"'\"');code = f.read().replace('\"'\"'\\r\\n'\"'\"', '\"'\"'\\n'\"'\"');f.close();exec(compile(code, __file__, '\"'\"'exec'\"'\"'))' bdist_wheel -d 'C:\\Users\\hunad\\AppData\\Local\\Temp\\pip-wheel-h0zw60id'\n",
      "       cwd: C:\\Users\\hunad\\AppData\\Local\\Temp\\pip-install-ihb6t6ye\\wordcloud_907be1b19e1742e79eca1fc81c80fb74\\\n",
      "  Complete output (20 lines):\n",
      "  running bdist_wheel\n",
      "  running build\n",
      "  running build_py\n",
      "  creating build\n",
      "  creating build\\lib.win-amd64-3.9\n",
      "  creating build\\lib.win-amd64-3.9\\wordcloud\n",
      "  copying wordcloud\\color_from_image.py -> build\\lib.win-amd64-3.9\\wordcloud\n",
      "  copying wordcloud\\tokenization.py -> build\\lib.win-amd64-3.9\\wordcloud\n",
      "  copying wordcloud\\wordcloud.py -> build\\lib.win-amd64-3.9\\wordcloud\n",
      "  copying wordcloud\\wordcloud_cli.py -> build\\lib.win-amd64-3.9\\wordcloud\n",
      "  copying wordcloud\\_version.py -> build\\lib.win-amd64-3.9\\wordcloud\n",
      "  copying wordcloud\\__init__.py -> build\\lib.win-amd64-3.9\\wordcloud\n",
      "  copying wordcloud\\__main__.py -> build\\lib.win-amd64-3.9\\wordcloud\n",
      "  copying wordcloud\\stopwords -> build\\lib.win-amd64-3.9\\wordcloud\n",
      "  copying wordcloud\\DroidSansMono.ttf -> build\\lib.win-amd64-3.9\\wordcloud\n",
      "  UPDATING build\\lib.win-amd64-3.9\\wordcloud/_version.py\n",
      "  set build\\lib.win-amd64-3.9\\wordcloud/_version.py to '1.8.1'\n",
      "  running build_ext\n",
      "  building 'wordcloud.query_integral_image' extension\n",
      "  error: Microsoft Visual C++ 14.0 or greater is required. Get it with \"Microsoft C++ Build Tools\": https://visualstudio.microsoft.com/visual-cpp-build-tools/\n",
      "  ----------------------------------------\n",
      "  ERROR: Failed building wheel for wordcloud\n",
      "    ERROR: Command errored out with exit status 1:\n",
      "     command: 'C:\\Users\\hunad\\anaconda3\\python.exe' -u -c 'import io, os, sys, setuptools, tokenize; sys.argv[0] = '\"'\"'C:\\\\Users\\\\hunad\\\\AppData\\\\Local\\\\Temp\\\\pip-install-ihb6t6ye\\\\wordcloud_907be1b19e1742e79eca1fc81c80fb74\\\\setup.py'\"'\"'; __file__='\"'\"'C:\\\\Users\\\\hunad\\\\AppData\\\\Local\\\\Temp\\\\pip-install-ihb6t6ye\\\\wordcloud_907be1b19e1742e79eca1fc81c80fb74\\\\setup.py'\"'\"';f = getattr(tokenize, '\"'\"'open'\"'\"', open)(__file__) if os.path.exists(__file__) else io.StringIO('\"'\"'from setuptools import setup; setup()'\"'\"');code = f.read().replace('\"'\"'\\r\\n'\"'\"', '\"'\"'\\n'\"'\"');f.close();exec(compile(code, __file__, '\"'\"'exec'\"'\"'))' install --record 'C:\\Users\\hunad\\AppData\\Local\\Temp\\pip-record-797pov5g\\install-record.txt' --single-version-externally-managed --compile --install-headers 'C:\\Users\\hunad\\anaconda3\\Include\\wordcloud'\n",
      "         cwd: C:\\Users\\hunad\\AppData\\Local\\Temp\\pip-install-ihb6t6ye\\wordcloud_907be1b19e1742e79eca1fc81c80fb74\\\n",
      "    Complete output (20 lines):\n",
      "    running install\n",
      "    running build\n",
      "    running build_py\n",
      "    creating build\n",
      "    creating build\\lib.win-amd64-3.9\n",
      "    creating build\\lib.win-amd64-3.9\\wordcloud\n",
      "    copying wordcloud\\color_from_image.py -> build\\lib.win-amd64-3.9\\wordcloud\n",
      "    copying wordcloud\\tokenization.py -> build\\lib.win-amd64-3.9\\wordcloud\n",
      "    copying wordcloud\\wordcloud.py -> build\\lib.win-amd64-3.9\\wordcloud\n",
      "    copying wordcloud\\wordcloud_cli.py -> build\\lib.win-amd64-3.9\\wordcloud\n",
      "    copying wordcloud\\_version.py -> build\\lib.win-amd64-3.9\\wordcloud\n",
      "    copying wordcloud\\__init__.py -> build\\lib.win-amd64-3.9\\wordcloud\n",
      "    copying wordcloud\\__main__.py -> build\\lib.win-amd64-3.9\\wordcloud\n",
      "    copying wordcloud\\stopwords -> build\\lib.win-amd64-3.9\\wordcloud\n",
      "    copying wordcloud\\DroidSansMono.ttf -> build\\lib.win-amd64-3.9\\wordcloud\n",
      "    UPDATING build\\lib.win-amd64-3.9\\wordcloud/_version.py\n",
      "    set build\\lib.win-amd64-3.9\\wordcloud/_version.py to '1.8.1'\n",
      "    running build_ext\n",
      "    building 'wordcloud.query_integral_image' extension\n",
      "    error: Microsoft Visual C++ 14.0 or greater is required. Get it with \"Microsoft C++ Build Tools\": https://visualstudio.microsoft.com/visual-cpp-build-tools/\n",
      "    ----------------------------------------\n",
      "ERROR: Command errored out with exit status 1: 'C:\\Users\\hunad\\anaconda3\\python.exe' -u -c 'import io, os, sys, setuptools, tokenize; sys.argv[0] = '\"'\"'C:\\\\Users\\\\hunad\\\\AppData\\\\Local\\\\Temp\\\\pip-install-ihb6t6ye\\\\wordcloud_907be1b19e1742e79eca1fc81c80fb74\\\\setup.py'\"'\"'; __file__='\"'\"'C:\\\\Users\\\\hunad\\\\AppData\\\\Local\\\\Temp\\\\pip-install-ihb6t6ye\\\\wordcloud_907be1b19e1742e79eca1fc81c80fb74\\\\setup.py'\"'\"';f = getattr(tokenize, '\"'\"'open'\"'\"', open)(__file__) if os.path.exists(__file__) else io.StringIO('\"'\"'from setuptools import setup; setup()'\"'\"');code = f.read().replace('\"'\"'\\r\\n'\"'\"', '\"'\"'\\n'\"'\"');f.close();exec(compile(code, __file__, '\"'\"'exec'\"'\"'))' install --record 'C:\\Users\\hunad\\AppData\\Local\\Temp\\pip-record-797pov5g\\install-record.txt' --single-version-externally-managed --compile --install-headers 'C:\\Users\\hunad\\anaconda3\\Include\\wordcloud' Check the logs for full command output.\n"
     ]
    }
   ],
   "source": [
    "# Install a pip package in the current Jupyter kernel\n",
    "import sys\n",
    "!{sys.executable} -m pip install wordcloud"
   ]
  },
  {
   "cell_type": "code",
   "execution_count": 34,
   "id": "885270d7",
   "metadata": {},
   "outputs": [
    {
     "ename": "SyntaxError",
     "evalue": "unexpected character after line continuation character (Temp/ipykernel_7072/3420913666.py, line 1)",
     "output_type": "error",
     "traceback": [
      "\u001b[1;36m  File \u001b[1;32m\"C:\\Users\\hunad\\AppData\\Local\\Temp/ipykernel_7072/3420913666.py\"\u001b[1;36m, line \u001b[1;32m1\u001b[0m\n\u001b[1;33m    C:\\Users\\hunad\\anaconda3\\python -m pip install wordcloud\u001b[0m\n\u001b[1;37m                                                           ^\u001b[0m\n\u001b[1;31mSyntaxError\u001b[0m\u001b[1;31m:\u001b[0m unexpected character after line continuation character\n"
     ]
    }
   ],
   "source": [
    "C:\\Users\\hunad\\anaconda3\\python -m pip install wordcloud\n"
   ]
  },
  {
   "cell_type": "code",
   "execution_count": 27,
   "id": "83cd5226",
   "metadata": {},
   "outputs": [],
   "source": [
    "#load the datasets in raw_df\n",
    "raw_train_df = pd.read_csv('train_set.csv')\n",
    "raw_test_df = pd.read_csv('test_set.csv')"
   ]
  },
  {
   "cell_type": "code",
   "execution_count": 18,
   "id": "3b446172",
   "metadata": {},
   "outputs": [
    {
     "ename": "NameError",
     "evalue": "name 'WordNetLemmatizer' is not defined",
     "output_type": "error",
     "traceback": [
      "\u001b[1;31m---------------------------------------------------------------------------\u001b[0m",
      "\u001b[1;31mNameError\u001b[0m                                 Traceback (most recent call last)",
      "\u001b[1;32m~\\AppData\\Local\\Temp/ipykernel_7072/2464335298.py\u001b[0m in \u001b[0;36m<module>\u001b[1;34m\u001b[0m\n\u001b[0;32m     49\u001b[0m '''\n\u001b[0;32m     50\u001b[0m \u001b[1;31m#Create a function lemmatizer from WordNetLemmatizer\u001b[0m\u001b[1;33m\u001b[0m\u001b[1;33m\u001b[0m\u001b[0m\n\u001b[1;32m---> 51\u001b[1;33m \u001b[0mlemmatizer\u001b[0m \u001b[1;33m=\u001b[0m \u001b[0mWordNetLemmatizer\u001b[0m\u001b[1;33m(\u001b[0m\u001b[1;33m)\u001b[0m\u001b[1;33m\u001b[0m\u001b[1;33m\u001b[0m\u001b[0m\n\u001b[0m\u001b[0;32m     52\u001b[0m \u001b[1;32mdef\u001b[0m \u001b[0mlang_lemma\u001b[0m\u001b[1;33m(\u001b[0m\u001b[0mtext\u001b[0m\u001b[1;33m,\u001b[0m \u001b[0mlemmatizer\u001b[0m\u001b[1;33m)\u001b[0m\u001b[1;33m:\u001b[0m\u001b[1;33m\u001b[0m\u001b[1;33m\u001b[0m\u001b[0m\n\u001b[0;32m     53\u001b[0m \u001b[1;33m\u001b[0m\u001b[0m\n",
      "\u001b[1;31mNameError\u001b[0m: name 'WordNetLemmatizer' is not defined"
     ]
    }
   ],
   "source": [
    "### We declare the functions that we can call later within the project development\n",
    "\n",
    "#The function below takes a string and expands all contractions in the string\n",
    "def expand_contractions(text):\n",
    "    #takes the text\n",
    "    expanded = contractions.fix(text)\n",
    "    #returns expanded text\n",
    "    return expanded\n",
    "\n",
    "# Function to drop links from text using regex to replace the link with a comma\n",
    "def strip_links(text):\n",
    "    #define the regex formula to find urls\n",
    "    link_regex = re.compile('((https?):((//)|(\\\\\\\\))+([\\w\\d:#@%/;$()~_?\\+-=\\\\\\.&](#!)?)*)', re.DOTALL)\n",
    "    #finds all the links in the text\n",
    "    links = re.findall(link_regex, text)\n",
    "    #iterates over all the links\n",
    "    for link in links:\n",
    "        #replace the link with a comma\n",
    "        text = text.replace(link[0], ', ')\n",
    "        #retuns the text without links\n",
    "    return text\n",
    "\n",
    "    #Iterate over each word in the text\n",
    "    for word in text.split():\n",
    "        #remove all leading spaces and trailing spaces in the word\n",
    "        word = word.strip()\n",
    "        if word:\n",
    "            #check if the first character of the word is not '@'\n",
    "            if word[0] not in strip_sign:\n",
    "                #if False it appends the word to the list words\n",
    "                words.append(word)\n",
    "    #returns the text as string with all mentions removed\n",
    "    return ' '.join(words)\n",
    "\n",
    "#Function to Lemmatize the words\n",
    "'''\n",
    "Lemmatization is the process of reducing a variation of a word to\n",
    "it's root word. For example; cooking to cook or adventurous to adventure\n",
    "'''\n",
    "#Create a function lemmatizer from WordNetLemmatizer\n",
    "lemmatizer = WordNetLemmatizer()\n",
    "def lang_lemma(text, lemmatizer):\n",
    "    \n",
    "    #iterates over each word in the text and lemmatizes it\n",
    "    return [lemmatizer.lemmatize(t) for t in text]    \n",
    "\n",
    "\n",
    "#Function to remove emojis\n",
    "def remove_emojis(text):\n",
    "    #iterates over each object in the text\n",
    "    #appends the objects that are not in the emoji list\n",
    "    return [t for t in text if t not in emoji.UNICODE_EMOJI]"
   ]
  },
  {
   "cell_type": "code",
   "execution_count": 7,
   "id": "cba5bf96",
   "metadata": {},
   "outputs": [],
   "source": [
    "train_df = raw_train_df.copy(deep = True)"
   ]
  },
  {
   "cell_type": "code",
   "execution_count": 8,
   "id": "62c28c30",
   "metadata": {},
   "outputs": [
    {
     "data": {
      "text/html": [
       "<div>\n",
       "<style scoped>\n",
       "    .dataframe tbody tr th:only-of-type {\n",
       "        vertical-align: middle;\n",
       "    }\n",
       "\n",
       "    .dataframe tbody tr th {\n",
       "        vertical-align: top;\n",
       "    }\n",
       "\n",
       "    .dataframe thead th {\n",
       "        text-align: right;\n",
       "    }\n",
       "</style>\n",
       "<table border=\"1\" class=\"dataframe\">\n",
       "  <thead>\n",
       "    <tr style=\"text-align: right;\">\n",
       "      <th></th>\n",
       "      <th>lang_id</th>\n",
       "      <th>text</th>\n",
       "    </tr>\n",
       "  </thead>\n",
       "  <tbody>\n",
       "    <tr>\n",
       "      <th>0</th>\n",
       "      <td>xho</td>\n",
       "      <td>umgaqo-siseko wenza amalungiselelo kumaziko ax...</td>\n",
       "    </tr>\n",
       "    <tr>\n",
       "      <th>1</th>\n",
       "      <td>xho</td>\n",
       "      <td>i-dha iya kuba nobulumko bokubeka umsebenzi na...</td>\n",
       "    </tr>\n",
       "    <tr>\n",
       "      <th>2</th>\n",
       "      <td>eng</td>\n",
       "      <td>the province of kwazulu-natal department of tr...</td>\n",
       "    </tr>\n",
       "    <tr>\n",
       "      <th>3</th>\n",
       "      <td>nso</td>\n",
       "      <td>o netefatša gore o ba file dilo ka moka tše le...</td>\n",
       "    </tr>\n",
       "    <tr>\n",
       "      <th>4</th>\n",
       "      <td>ven</td>\n",
       "      <td>khomishini ya ndinganyiso ya mbeu yo ewa maana...</td>\n",
       "    </tr>\n",
       "  </tbody>\n",
       "</table>\n",
       "</div>"
      ],
      "text/plain": [
       "  lang_id                                               text\n",
       "0     xho  umgaqo-siseko wenza amalungiselelo kumaziko ax...\n",
       "1     xho  i-dha iya kuba nobulumko bokubeka umsebenzi na...\n",
       "2     eng  the province of kwazulu-natal department of tr...\n",
       "3     nso  o netefatša gore o ba file dilo ka moka tše le...\n",
       "4     ven  khomishini ya ndinganyiso ya mbeu yo ewa maana..."
      ]
     },
     "execution_count": 8,
     "metadata": {},
     "output_type": "execute_result"
    }
   ],
   "source": [
    "train_df.head()"
   ]
  },
  {
   "cell_type": "code",
   "execution_count": 9,
   "id": "95ea9812",
   "metadata": {},
   "outputs": [
    {
     "name": "stdout",
     "output_type": "stream",
     "text": [
      "<class 'pandas.core.frame.DataFrame'>\n",
      "RangeIndex: 33000 entries, 0 to 32999\n",
      "Data columns (total 2 columns):\n",
      " #   Column   Non-Null Count  Dtype \n",
      "---  ------   --------------  ----- \n",
      " 0   lang_id  33000 non-null  object\n",
      " 1   text     33000 non-null  object\n",
      "dtypes: object(2)\n",
      "memory usage: 515.8+ KB\n"
     ]
    }
   ],
   "source": [
    "train_df.info()"
   ]
  },
  {
   "cell_type": "code",
   "execution_count": 10,
   "id": "725d8524",
   "metadata": {},
   "outputs": [
    {
     "data": {
      "text/plain": [
       "(33000, 2)"
      ]
     },
     "execution_count": 10,
     "metadata": {},
     "output_type": "execute_result"
    }
   ],
   "source": [
    "train_df.shape"
   ]
  },
  {
   "cell_type": "code",
   "execution_count": 11,
   "id": "72f4e3d9",
   "metadata": {},
   "outputs": [
    {
     "data": {
      "text/plain": [
       "xho    3000\n",
       "eng    3000\n",
       "nso    3000\n",
       "ven    3000\n",
       "tsn    3000\n",
       "nbl    3000\n",
       "zul    3000\n",
       "ssw    3000\n",
       "tso    3000\n",
       "sot    3000\n",
       "afr    3000\n",
       "Name: lang_id, dtype: int64"
      ]
     },
     "execution_count": 11,
     "metadata": {},
     "output_type": "execute_result"
    }
   ],
   "source": [
    "train_df['lang_id'].value_counts()"
   ]
  },
  {
   "cell_type": "code",
   "execution_count": 12,
   "id": "e952ae06",
   "metadata": {},
   "outputs": [
    {
     "data": {
      "text/plain": [
       "29948"
      ]
     },
     "execution_count": 12,
     "metadata": {},
     "output_type": "execute_result"
    }
   ],
   "source": [
    "len(train_df['text'].unique())"
   ]
  },
  {
   "cell_type": "code",
   "execution_count": 13,
   "id": "3051eb6c",
   "metadata": {},
   "outputs": [
    {
     "data": {
      "text/plain": [
       "(3052, 2)"
      ]
     },
     "execution_count": 13,
     "metadata": {},
     "output_type": "execute_result"
    }
   ],
   "source": [
    "train_df[train_df.duplicated(['text'])].shape"
   ]
  },
  {
   "cell_type": "code",
   "execution_count": 14,
   "id": "c84000f0",
   "metadata": {},
   "outputs": [
    {
     "data": {
      "text/html": [
       "<div>\n",
       "<style scoped>\n",
       "    .dataframe tbody tr th:only-of-type {\n",
       "        vertical-align: middle;\n",
       "    }\n",
       "\n",
       "    .dataframe tbody tr th {\n",
       "        vertical-align: top;\n",
       "    }\n",
       "\n",
       "    .dataframe thead th {\n",
       "        text-align: right;\n",
       "    }\n",
       "</style>\n",
       "<table border=\"1\" class=\"dataframe\">\n",
       "  <thead>\n",
       "    <tr style=\"text-align: right;\">\n",
       "      <th></th>\n",
       "      <th>lang_id</th>\n",
       "      <th>text</th>\n",
       "    </tr>\n",
       "  </thead>\n",
       "  <tbody>\n",
       "  </tbody>\n",
       "</table>\n",
       "</div>"
      ],
      "text/plain": [
       "Empty DataFrame\n",
       "Columns: [lang_id, text]\n",
       "Index: []"
      ]
     },
     "execution_count": 14,
     "metadata": {},
     "output_type": "execute_result"
    }
   ],
   "source": [
    "train_df.groupby('text').filter(lambda x: len(x['lang_id'].unique()) > 1)"
   ]
  },
  {
   "cell_type": "code",
   "execution_count": 15,
   "id": "e5194e0e",
   "metadata": {},
   "outputs": [
    {
     "data": {
      "text/plain": [
       "lang_id    0\n",
       "text       0\n",
       "dtype: int64"
      ]
     },
     "execution_count": 15,
     "metadata": {},
     "output_type": "execute_result"
    }
   ],
   "source": [
    "train_df.isna().sum()"
   ]
  },
  {
   "cell_type": "code",
   "execution_count": 16,
   "id": "87da73c2",
   "metadata": {},
   "outputs": [
    {
     "name": "stdout",
     "output_type": "stream",
     "text": [
      "Review 1:\n",
      " a total of units were tested during the reporting period with samples representative of the four approved scsrs i e draeger oxyboks k mk msa ssr afroxpac and ocenco m being submitted there was an improvement in the number of participating mines\n",
      "Review 2:\n",
      " hata butle ha o sebetsana le dikamano tsa matla boemong ba selehae cbnrm ke leano le laolwang ho latela demokerasi jwang kapa jwang le tla tshosa ba bang ka nako e nngwe hona ho ke ke ha qojwa empa wena leka ho qoba ka hohle ka moo o ka kgonang\n",
      "Review 3:\n",
      " n persoon wat wil vasstel of hulle met miv geïnfekteer is kan na n kliniek of enige openbare gesondheidsfasiliteit gaan vir vrywillige toetsing en berading vtb vrywillig beteken dat die persoon self besluit om die toets te ondergaan niemand kan gedwing word om n miv-toets te ondergaan nie\n",
      "Review 4:\n",
      " endla leswaku swakudya leswi tolovelekeke ngopfu swi tala ku tlula leswin wana nkarhi hinkwawo loko u dya swakudya leswi ku nga ha va mugayo xinkwa rhayisi mazambhani kumbe swin wana swakudya leswi swi nga na xitachi leswi u nga vaka u ri na swona\n",
      "Review 5:\n",
      " licophelo lelisetulu - lokucuketfwe kusecophelweni lelisetulu futsi kunekuticambela - imibono inekujula kwemcondvo futsi iyajabulisa futsi iyakholweka -imininingwane yetigameko itfutfuka ngalokubumbene\n"
     ]
    }
   ],
   "source": [
    "for index,text in enumerate(train_df['text'][30:35]):\n",
    "    print('Review %d:\\n'%(index+1),text)"
   ]
  },
  {
   "cell_type": "code",
   "execution_count": 35,
   "id": "2f4b67cb",
   "metadata": {},
   "outputs": [
    {
     "name": "stdout",
     "output_type": "stream",
     "text": [
      "Collecting contractions\n",
      "  Downloading contractions-0.1.68-py2.py3-none-any.whl (8.1 kB)\n",
      "Collecting textsearch>=0.0.21\n",
      "  Downloading textsearch-0.0.21-py2.py3-none-any.whl (7.5 kB)\n",
      "Collecting anyascii\n",
      "  Downloading anyascii-0.3.0-py3-none-any.whl (284 kB)\n",
      "Collecting pyahocorasick\n",
      "  Downloading pyahocorasick-1.4.4-cp39-cp39-win_amd64.whl (39 kB)\n",
      "Installing collected packages: pyahocorasick, anyascii, textsearch, contractions\n",
      "Successfully installed anyascii-0.3.0 contractions-0.1.68 pyahocorasick-1.4.4 textsearch-0.0.21\n"
     ]
    }
   ],
   "source": [
    "import sys  \n",
    "!{sys.executable} -m pip install contractions"
   ]
  },
  {
   "cell_type": "code",
   "execution_count": 42,
   "id": "1ff632ac",
   "metadata": {},
   "outputs": [],
   "source": [
    "#The function below takes a string and expands all contractions in the string\n",
    "def expand_contractions(text):\n",
    "    #takes the text\n",
    "    expanded = contractions.fix(textcleaned_message)\n",
    "    #returns expanded text\n",
    "    return expanded"
   ]
  },
  {
   "cell_type": "code",
   "execution_count": 44,
   "id": "99206b83",
   "metadata": {},
   "outputs": [
    {
     "data": {
      "text/plain": [
       "0    umgaqo-siseko wenza amalungiselelo kumaziko ax...\n",
       "1    i-dha iya kuba nobulumko bokubeka umsebenzi na...\n",
       "2    the province of kwazulu-natal department of tr...\n",
       "3    o netefatša gore o ba file dilo ka moka tše le...\n",
       "4    khomishini ya ndinganyiso ya mbeu yo ewa maana...\n",
       "Name: cleaned_message, dtype: object"
      ]
     },
     "execution_count": 44,
     "metadata": {},
     "output_type": "execute_result"
    }
   ],
   "source": [
    "train_df['cleaned_message']=train_df['text'].apply(lambda x: x.lower())\n",
    "train_df['cleaned_message'][0:5]"
   ]
  },
  {
   "cell_type": "code",
   "execution_count": 102,
   "id": "f798bd4c",
   "metadata": {},
   "outputs": [],
   "source": [
    "import string\n"
   ]
  },
  {
   "cell_type": "code",
   "execution_count": 103,
   "id": "4849ede6",
   "metadata": {},
   "outputs": [],
   "source": [
    "train_df['cleaned_message']=train_df['cleaned_message'].apply(lambda x: re.sub('[%s]' % re.escape(string.punctuation), '', x))"
   ]
  },
  {
   "cell_type": "code",
   "execution_count": 104,
   "id": "073f4dd8",
   "metadata": {},
   "outputs": [],
   "source": [
    "train_grouped=train_df[['lang_id','cleaned_message']].groupby('lang_id').agg(sum)"
   ]
  },
  {
   "cell_type": "code",
   "execution_count": 107,
   "id": "acfa68d6",
   "metadata": {},
   "outputs": [],
   "source": [
    "from nltk.tokenize import TreebankWordTokenizer\n"
   ]
  },
  {
   "cell_type": "code",
   "execution_count": 108,
   "id": "2d05c202",
   "metadata": {},
   "outputs": [
    {
     "data": {
      "text/plain": [
       "0    [umgaqosiseko, wenza, amalungiselelo, kumaziko...\n",
       "1    [idha, iya, kuba, nobulumko, bokubeka, umseben...\n",
       "2    [the, province, of, kwazulunatal, department, ...\n",
       "3    [o, netefatša, gore, o, ba, file, dilo, ka, mo...\n",
       "4    [khomishini, ya, ndinganyiso, ya, mbeu, yo, ew...\n",
       "Name: cleaned_message, dtype: object"
      ]
     },
     "execution_count": 108,
     "metadata": {},
     "output_type": "execute_result"
    }
   ],
   "source": [
    "tokeniser = TreebankWordTokenizer()\n",
    "train_df['cleaned_message'] = train_df['cleaned_message'].apply(tokeniser.tokenize)\n",
    "train_df['cleaned_message'].head()"
   ]
  },
  {
   "cell_type": "code",
   "execution_count": 113,
   "id": "2066fe0f",
   "metadata": {},
   "outputs": [],
   "source": [
    "from nltk.stem import WordNetLemmatizer\n",
    "\n"
   ]
  },
  {
   "cell_type": "code",
   "execution_count": 115,
   "id": "bd454b7d",
   "metadata": {},
   "outputs": [],
   "source": [
    "lemmatizer = WordNetLemmatizer()\n",
    "def lang_lemma(text, lemmatizer):\n",
    "        return [lemmatizer.lemmatize(t) for t in text]    \n"
   ]
  },
  {
   "cell_type": "code",
   "execution_count": 116,
   "id": "2b22451a",
   "metadata": {},
   "outputs": [
    {
     "data": {
      "text/plain": [
       "0    [umgaqosiseko, wenza, amalungiselelo, kumaziko...\n",
       "1    [idha, iya, kuba, nobulumko, bokubeka, umseben...\n",
       "2    [the, province, of, kwazulunatal, department, ...\n",
       "3    [o, netefatša, gore, o, ba, file, dilo, ka, mo...\n",
       "4    [khomishini, ya, ndinganyiso, ya, mbeu, yo, ew...\n",
       "Name: cleaned_message, dtype: object"
      ]
     },
     "execution_count": 116,
     "metadata": {},
     "output_type": "execute_result"
    }
   ],
   "source": [
    "train_df['cleaned_message'] = train_df['cleaned_message'].apply(lang_lemma, args=(lemmatizer, ))\n",
    "train_df['cleaned_message'].head()"
   ]
  },
  {
   "cell_type": "code",
   "execution_count": 117,
   "id": "fb37dabc",
   "metadata": {},
   "outputs": [
    {
     "data": {
      "text/html": [
       "<div>\n",
       "<style scoped>\n",
       "    .dataframe tbody tr th:only-of-type {\n",
       "        vertical-align: middle;\n",
       "    }\n",
       "\n",
       "    .dataframe tbody tr th {\n",
       "        vertical-align: top;\n",
       "    }\n",
       "\n",
       "    .dataframe thead th {\n",
       "        text-align: right;\n",
       "    }\n",
       "</style>\n",
       "<table border=\"1\" class=\"dataframe\">\n",
       "  <thead>\n",
       "    <tr style=\"text-align: right;\">\n",
       "      <th></th>\n",
       "      <th>cleaned_message</th>\n",
       "    </tr>\n",
       "    <tr>\n",
       "      <th>lang_id</th>\n",
       "      <th></th>\n",
       "    </tr>\n",
       "  </thead>\n",
       "  <tbody>\n",
       "    <tr>\n",
       "      <th>afr</th>\n",
       "      <td>n persoon wat wil vasstel of hulle met miv geï...</td>\n",
       "    </tr>\n",
       "    <tr>\n",
       "      <th>eng</th>\n",
       "      <td>the province of kwazulunatal department of tra...</td>\n",
       "    </tr>\n",
       "    <tr>\n",
       "      <th>nbl</th>\n",
       "      <td>lapho inarha yangeqadi ingenwe ngokungasimthet...</td>\n",
       "    </tr>\n",
       "    <tr>\n",
       "      <th>nso</th>\n",
       "      <td>o netefatša gore o ba file dilo ka moka tše le...</td>\n",
       "    </tr>\n",
       "    <tr>\n",
       "      <th>sot</th>\n",
       "      <td>ka ho mengwa lefapheng la lona diprofeshenale ...</td>\n",
       "    </tr>\n",
       "    <tr>\n",
       "      <th>ssw</th>\n",
       "      <td>tekulima lokufaka ekhatsi yonkhe imisebenti ye...</td>\n",
       "    </tr>\n",
       "    <tr>\n",
       "      <th>tsn</th>\n",
       "      <td>kgetse nngwe le nngwe e e sa faposiwang mo tsh...</td>\n",
       "    </tr>\n",
       "    <tr>\n",
       "      <th>tso</th>\n",
       "      <td>migingiriko ya cbnrm hinkwayo yi katsa ku tumb...</td>\n",
       "    </tr>\n",
       "    <tr>\n",
       "      <th>ven</th>\n",
       "      <td>khomishini ya ndinganyiso ya mbeu yo ewa maana...</td>\n",
       "    </tr>\n",
       "    <tr>\n",
       "      <th>xho</th>\n",
       "      <td>umgaqosiseko wenza amalungiselelo kumaziko axh...</td>\n",
       "    </tr>\n",
       "    <tr>\n",
       "      <th>zul</th>\n",
       "      <td>itipoffs anonymous wusizo locingo oluzimele fu...</td>\n",
       "    </tr>\n",
       "  </tbody>\n",
       "</table>\n",
       "</div>"
      ],
      "text/plain": [
       "                                           cleaned_message\n",
       "lang_id                                                   \n",
       "afr      n persoon wat wil vasstel of hulle met miv geï...\n",
       "eng      the province of kwazulunatal department of tra...\n",
       "nbl      lapho inarha yangeqadi ingenwe ngokungasimthet...\n",
       "nso      o netefatša gore o ba file dilo ka moka tše le...\n",
       "sot      ka ho mengwa lefapheng la lona diprofeshenale ...\n",
       "ssw      tekulima lokufaka ekhatsi yonkhe imisebenti ye...\n",
       "tsn      kgetse nngwe le nngwe e e sa faposiwang mo tsh...\n",
       "tso      migingiriko ya cbnrm hinkwayo yi katsa ku tumb...\n",
       "ven      khomishini ya ndinganyiso ya mbeu yo ewa maana...\n",
       "xho      umgaqosiseko wenza amalungiselelo kumaziko axh...\n",
       "zul      itipoffs anonymous wusizo locingo oluzimele fu..."
      ]
     },
     "execution_count": 117,
     "metadata": {},
     "output_type": "execute_result"
    }
   ],
   "source": [
    "train_grouped"
   ]
  },
  {
   "cell_type": "code",
   "execution_count": 50,
   "id": "bbb576f2",
   "metadata": {},
   "outputs": [],
   "source": [
    "test_df = raw_test_df.copy(deep = True)"
   ]
  },
  {
   "cell_type": "code",
   "execution_count": 51,
   "id": "4a91744c",
   "metadata": {},
   "outputs": [
    {
     "data": {
      "text/html": [
       "<div>\n",
       "<style scoped>\n",
       "    .dataframe tbody tr th:only-of-type {\n",
       "        vertical-align: middle;\n",
       "    }\n",
       "\n",
       "    .dataframe tbody tr th {\n",
       "        vertical-align: top;\n",
       "    }\n",
       "\n",
       "    .dataframe thead th {\n",
       "        text-align: right;\n",
       "    }\n",
       "</style>\n",
       "<table border=\"1\" class=\"dataframe\">\n",
       "  <thead>\n",
       "    <tr style=\"text-align: right;\">\n",
       "      <th></th>\n",
       "      <th>index</th>\n",
       "      <th>text</th>\n",
       "    </tr>\n",
       "  </thead>\n",
       "  <tbody>\n",
       "    <tr>\n",
       "      <th>0</th>\n",
       "      <td>1</td>\n",
       "      <td>Mmasepala, fa maemo a a kgethegileng a letlele...</td>\n",
       "    </tr>\n",
       "    <tr>\n",
       "      <th>1</th>\n",
       "      <td>2</td>\n",
       "      <td>Uzakwaziswa ngokufaneleko nakungafuneka eminye...</td>\n",
       "    </tr>\n",
       "    <tr>\n",
       "      <th>2</th>\n",
       "      <td>3</td>\n",
       "      <td>Tshivhumbeo tshi fana na ngano dza vhathu.</td>\n",
       "    </tr>\n",
       "    <tr>\n",
       "      <th>3</th>\n",
       "      <td>4</td>\n",
       "      <td>Kube inja nelikati betingevakala kutsi titsini...</td>\n",
       "    </tr>\n",
       "    <tr>\n",
       "      <th>4</th>\n",
       "      <td>5</td>\n",
       "      <td>Winste op buitelandse valuta.</td>\n",
       "    </tr>\n",
       "  </tbody>\n",
       "</table>\n",
       "</div>"
      ],
      "text/plain": [
       "   index                                               text\n",
       "0      1  Mmasepala, fa maemo a a kgethegileng a letlele...\n",
       "1      2  Uzakwaziswa ngokufaneleko nakungafuneka eminye...\n",
       "2      3         Tshivhumbeo tshi fana na ngano dza vhathu.\n",
       "3      4  Kube inja nelikati betingevakala kutsi titsini...\n",
       "4      5                      Winste op buitelandse valuta."
      ]
     },
     "execution_count": 51,
     "metadata": {},
     "output_type": "execute_result"
    }
   ],
   "source": [
    "test_df.head()"
   ]
  },
  {
   "cell_type": "code",
   "execution_count": 52,
   "id": "c0795f06",
   "metadata": {},
   "outputs": [
    {
     "data": {
      "text/plain": [
       "(5682, 2)"
      ]
     },
     "execution_count": 52,
     "metadata": {},
     "output_type": "execute_result"
    }
   ],
   "source": [
    "test_df.shape"
   ]
  },
  {
   "cell_type": "code",
   "execution_count": 53,
   "id": "21ce48af",
   "metadata": {},
   "outputs": [
    {
     "data": {
      "text/plain": [
       "<AxesSubplot:title={'center':'languages in SA'}>"
      ]
     },
     "execution_count": 53,
     "metadata": {},
     "output_type": "execute_result"
    },
    {
     "data": {
      "image/png": "[encoded data removed]",
      "text/plain": [
       "<Figure size 432x288 with 1 Axes>"
      ]
     },
     "metadata": {},
     "output_type": "display_data"
    }
   ],
   "source": [
    "train_df['lang_id'].value_counts(ascending = True).plot(kind = 'bar', title = 'languages in SA')"
   ]
  },
  {
   "cell_type": "code",
   "execution_count": 118,
   "id": "6e76685b",
   "metadata": {},
   "outputs": [
    {
     "name": "stdout",
     "output_type": "stream",
     "text": [
      "Review 1:\n",
      " Iskimu senza kahle kakhulu ngonyaka ka2009, siqoqa iminikelo eyeqa izicelo zenkokhelo nezindleko zazo zonke izinhlobo ngaphandle kohlobo lwe-Onyx. Ithebula elilandelayo lifingqa umsebenzi wezinhlobo zakwa-GEMS ngokulandelana kwazo ngo2009.\n",
      "Review 2:\n",
      " Kwenzeka ntoni ukuba umntu ofumana imali yesondlo uyagula, uyakhubazeka, uyasweleka okanye uphesheya?\n",
      "Review 3:\n",
      " Ha molaetsa wa hao wa SMS o sa atleha, o tla fumana karabo ho tswa GEMS e leng e ho hlalosetsang hore lebaka ke lefe. O ka nna wa lokisa phoso e be o romela SMS e ntjha hore o fumane tlhahisoleseding eo o e hlokang. Bakeng sa dipatlisiso dife kapa dife, re kopa hore o iteanye le ba Call Centre ya GEMS ho 0860 00 4367.\n",
      "Review 4:\n",
      " Fekesetša foromo yeo e tladitšwego ka botlalo le lengwalo la go tšwa go ngaka ya gago la dihlare tša go ipušeletša go 0866 51 8009 gore e sekasekwe.\n",
      "Review 5:\n",
      " Bhalela umngani wakhoumcocelengelicembu lolidlalelako esikolweni, usho nekutsi luhlobo luni lwemdlalo.\n"
     ]
    }
   ],
   "source": [
    "for index,text in enumerate(raw_test_df['text'][30:35]):\n",
    "    print('Review %d:\\n'%(index+1),text)"
   ]
  },
  {
   "cell_type": "code",
   "execution_count": 119,
   "id": "d42149a8",
   "metadata": {},
   "outputs": [],
   "source": [
    "#Libraries for test pre-processing\n",
    "from sklearn.feature_extraction.text import CountVectorizer\n",
    "from sklearn.feature_extraction.text import TfidfVectorizer\n",
    "from sklearn.feature_extraction.text import HashingVectorizer"
   ]
  },
  {
   "cell_type": "code",
   "execution_count": 126,
   "id": "45d737b8",
   "metadata": {},
   "outputs": [],
   "source": [
    "tfidf_vectorizer = TfidfVectorizer()\n",
    "hashing_vectorizer = HashingVectorizer(n_features = 6000)\n",
    "count_vectorizer = CountVectorizer()"
   ]
  },
  {
   "cell_type": "code",
   "execution_count": 127,
   "id": "a751e488",
   "metadata": {},
   "outputs": [],
   "source": [
    "from sklearn.model_selection import train_test_split\n",
    "from sklearn.naive_bayes import BernoulliNB"
   ]
  },
  {
   "cell_type": "code",
   "execution_count": 128,
   "id": "6c83baef",
   "metadata": {},
   "outputs": [],
   "source": [
    "X_train, X_test, y_train, y_test = \\\n",
    "    train_test_split(train_df['text'],\n",
    "                        train_df['lang_id'],\n",
    "                        test_size=0.3,\n",
    "                        random_state=0)"
   ]
  },
  {
   "cell_type": "code",
   "execution_count": 129,
   "id": "6802aeba",
   "metadata": {},
   "outputs": [
    {
     "name": "stdout",
     "output_type": "stream",
     "text": [
      "23100\n"
     ]
    }
   ],
   "source": [
    "text =train_df.text\n",
    "# text\n",
    "tfidf_vectorizer.fit(text)\n",
    "hashing_vectorizer.fit(text)\n",
    "count_vectorizer.fit(text)\n",
    "# # print(tfidf_vectorizer.vocabulary_)\n",
    "# print(tfidf_vectorizer.idf_)\n",
    "hash_X_train = hashing_vectorizer.transform(X_train)\n",
    "count_X_train = count_vectorizer.transform(X_train)\n",
    "tfidf_X_train = tfidf_vectorizer.transform(X_train)\n",
    "hash_X_test= hashing_vectorizer.transform(X_test)\n",
    "count_X_test = count_vectorizer.transform(X_test)\n",
    "tfidf_X_test = tfidf_vectorizer.transform(X_test)\n",
    "\n",
    "print(len(X_train))\n",
    "# print(vector.toarray())"
   ]
  },
  {
   "cell_type": "code",
   "execution_count": 130,
   "id": "fd60481b",
   "metadata": {},
   "outputs": [],
   "source": [
    "#Libraries for Model Performance\n",
    "from sklearn.metrics import classification_report\n",
    "from sklearn.metrics import f1_score, precision_score, recall_score, confusion_matrix"
   ]
  },
  {
   "cell_type": "code",
   "execution_count": 125,
   "id": "124990e4",
   "metadata": {},
   "outputs": [],
   "source": [
    "def fit_eval_model(model,X_train, X_test):\n",
    "    # fit the model\n",
    "    model.fit(X_train, y_train)\n",
    "    # Predict values for Test dataset\n",
    "    y_pred = model.predict(X_test)\n",
    "    # Print the evaluation metrics for the dataset.\n",
    "    print(classification_report(y_test, y_pred))\n",
    "    # Compute and plot the Confusion matrix\n",
    "    cf_matrix = confusion_matrix(y_test, y_pred)\n",
    "    categories = ['Negative','Positive']\n",
    "    group_names = ['True Neg','False Pos', 'False Neg','True Pos']\n",
    "    group_percentages = ['{0:.2%}'.format(value) for value in cf_matrix.flatten() / np.sum(cf_matrix)]\n",
    "    labels = [f'{v1}' for v1 in group_percentages]\n",
    "    labels = np.asarray(labels).reshape(11,11)\n",
    "    # labels = [f'{v1}n{v2}' for v1, v2 in zip(group_names,group_percentages)]\n",
    "    # labels = np.asarray(labels).reshape(2,2)\n",
    "    print(labels)\n",
    "    print(group_percentages)\n",
    "    print(cf_matrix)\n",
    "    sns.heatmap(cf_matrix,\n",
    "                annot = labels,\n",
    "                cmap = 'Blues',fmt = '',\n",
    "                xticklabels = categories,\n",
    "                yticklabels = categories)\n",
    "    # plt.xlabel(\"Predicted values\", fontdict = {'size':14}, labelpad = 10)\n",
    "    # plt.ylabel(\"Actual values\" , fontdict = {'size':14}, labelpad = 10)\n",
    "    # plt.title (\"Confusion Matrix\", fontdict = {'size':18}, pad = 20)"
   ]
  },
  {
   "cell_type": "code",
   "execution_count": 87,
   "id": "b71468b2",
   "metadata": {},
   "outputs": [
    {
     "name": "stdout",
     "output_type": "stream",
     "text": [
      "              precision    recall  f1-score   support\n",
      "\n",
      "         afr       1.00      1.00      1.00       919\n",
      "         eng       1.00      1.00      1.00       882\n",
      "         nbl       1.00      1.00      1.00       936\n",
      "         nso       1.00      1.00      1.00       861\n",
      "         sot       1.00      1.00      1.00       887\n",
      "         ssw       1.00      1.00      1.00       927\n",
      "         tsn       1.00      1.00      1.00       863\n",
      "         tso       1.00      1.00      1.00       901\n",
      "         ven       1.00      1.00      1.00       882\n",
      "         xho       1.00      1.00      1.00       930\n",
      "         zul       1.00      1.00      1.00       912\n",
      "\n",
      "    accuracy                           1.00      9900\n",
      "   macro avg       1.00      1.00      1.00      9900\n",
      "weighted avg       1.00      1.00      1.00      9900\n",
      "\n",
      "[['9.28%' '0.00%' '0.00%' '0.00%' '0.00%' '0.00%' '0.00%' '0.00%' '0.00%'\n",
      "  '0.00%' '0.00%']\n",
      " ['0.00%' '8.91%' '0.00%' '0.00%' '0.00%' '0.00%' '0.00%' '0.00%' '0.00%'\n",
      "  '0.00%' '0.00%']\n",
      " ['0.00%' '0.00%' '9.44%' '0.00%' '0.00%' '0.00%' '0.00%' '0.00%' '0.00%'\n",
      "  '0.00%' '0.01%']\n",
      " ['0.00%' '0.00%' '0.00%' '8.70%' '0.00%' '0.00%' '0.00%' '0.00%' '0.00%'\n",
      "  '0.00%' '0.00%']\n",
      " ['0.00%' '0.00%' '0.00%' '0.01%' '8.95%' '0.00%' '0.00%' '0.00%' '0.00%'\n",
      "  '0.00%' '0.00%']\n",
      " ['0.00%' '0.00%' '0.00%' '0.00%' '0.00%' '9.36%' '0.00%' '0.00%' '0.00%'\n",
      "  '0.00%' '0.00%']\n",
      " ['0.00%' '0.00%' '0.00%' '0.00%' '0.00%' '0.00%' '8.72%' '0.00%' '0.00%'\n",
      "  '0.00%' '0.00%']\n",
      " ['0.00%' '0.00%' '0.00%' '0.00%' '0.00%' '0.00%' '0.00%' '9.10%' '0.00%'\n",
      "  '0.00%' '0.00%']\n",
      " ['0.00%' '0.00%' '0.00%' '0.00%' '0.00%' '0.00%' '0.00%' '0.00%' '8.91%'\n",
      "  '0.00%' '0.00%']\n",
      " ['0.00%' '0.00%' '0.01%' '0.00%' '0.00%' '0.00%' '0.00%' '0.00%' '0.00%'\n",
      "  '9.38%' '0.00%']\n",
      " ['0.00%' '0.02%' '0.00%' '0.00%' '0.00%' '0.00%' '0.00%' '0.00%' '0.00%'\n",
      "  '0.00%' '9.19%']]\n",
      "['9.28%', '0.00%', '0.00%', '0.00%', '0.00%', '0.00%', '0.00%', '0.00%', '0.00%', '0.00%', '0.00%', '0.00%', '8.91%', '0.00%', '0.00%', '0.00%', '0.00%', '0.00%', '0.00%', '0.00%', '0.00%', '0.00%', '0.00%', '0.00%', '9.44%', '0.00%', '0.00%', '0.00%', '0.00%', '0.00%', '0.00%', '0.00%', '0.01%', '0.00%', '0.00%', '0.00%', '8.70%', '0.00%', '0.00%', '0.00%', '0.00%', '0.00%', '0.00%', '0.00%', '0.00%', '0.00%', '0.00%', '0.01%', '8.95%', '0.00%', '0.00%', '0.00%', '0.00%', '0.00%', '0.00%', '0.00%', '0.00%', '0.00%', '0.00%', '0.00%', '9.36%', '0.00%', '0.00%', '0.00%', '0.00%', '0.00%', '0.00%', '0.00%', '0.00%', '0.00%', '0.00%', '0.00%', '8.72%', '0.00%', '0.00%', '0.00%', '0.00%', '0.00%', '0.00%', '0.00%', '0.00%', '0.00%', '0.00%', '0.00%', '9.10%', '0.00%', '0.00%', '0.00%', '0.00%', '0.00%', '0.00%', '0.00%', '0.00%', '0.00%', '0.00%', '0.00%', '8.91%', '0.00%', '0.00%', '0.00%', '0.00%', '0.01%', '0.00%', '0.00%', '0.00%', '0.00%', '0.00%', '0.00%', '9.38%', '0.00%', '0.00%', '0.02%', '0.00%', '0.00%', '0.00%', '0.00%', '0.00%', '0.00%', '0.00%', '0.00%', '9.19%']\n",
      "[[919   0   0   0   0   0   0   0   0   0   0]\n",
      " [  0 882   0   0   0   0   0   0   0   0   0]\n",
      " [  0   0 935   0   0   0   0   0   0   0   1]\n",
      " [  0   0   0 861   0   0   0   0   0   0   0]\n",
      " [  0   0   0   1 886   0   0   0   0   0   0]\n",
      " [  0   0   0   0   0 927   0   0   0   0   0]\n",
      " [  0   0   0   0   0   0 863   0   0   0   0]\n",
      " [  0   0   0   0   0   0   0 901   0   0   0]\n",
      " [  0   0   0   0   0   0   0   0 882   0   0]\n",
      " [  0   0   1   0   0   0   0   0   0 929   0]\n",
      " [  0   2   0   0   0   0   0   0   0   0 910]]\n"
     ]
    },
    {
     "data": {
      "image/png": "[encoded data removed]",
      "text/plain": [
       "<Figure size 432x288 with 2 Axes>"
      ]
     },
     "metadata": {},
     "output_type": "display_data"
    }
   ],
   "source": [
    "BNBModel = BernoulliNB()\n",
    "fit_eval_model(BNBModel, tfidf_X_train,tfidf_X_test)"
   ]
  },
  {
   "cell_type": "code",
   "execution_count": 131,
   "id": "18c4d3ea",
   "metadata": {},
   "outputs": [
    {
     "data": {
      "text/plain": [
       "array([[919,   0,   0,   0,   0,   0,   0,   0,   0,   0,   0],\n",
       "       [  0, 882,   0,   0,   0,   0,   0,   0,   0,   0,   0],\n",
       "       [  0,   0, 935,   0,   0,   0,   0,   0,   0,   0,   1],\n",
       "       [  0,   0,   0, 861,   0,   0,   0,   0,   0,   0,   0],\n",
       "       [  0,   0,   0,   1, 886,   0,   0,   0,   0,   0,   0],\n",
       "       [  0,   0,   0,   0,   0, 927,   0,   0,   0,   0,   0],\n",
       "       [  0,   0,   0,   0,   0,   0, 863,   0,   0,   0,   0],\n",
       "       [  0,   0,   0,   0,   0,   0,   0, 901,   0,   0,   0],\n",
       "       [  0,   0,   0,   0,   0,   0,   0,   0, 882,   0,   0],\n",
       "       [  0,   0,   1,   0,   0,   0,   0,   0,   0, 929,   0],\n",
       "       [  0,   2,   0,   0,   0,   0,   0,   0,   0,   0, 910]],\n",
       "      dtype=int64)"
      ]
     },
     "execution_count": 131,
     "metadata": {},
     "output_type": "execute_result"
    }
   ],
   "source": [
    "f1 = f1_score(y_test, y_pred, average = 'weighted')\n",
    "precision = precision_score(y_test, y_pred, average = 'weighted', zero_division = 1)\n",
    "recall = recall_score(y_test, y_pred, average = 'weighted')\n",
    "confusion = confusion_matrix(y_test, y_pred)\n",
    "confusion"
   ]
  },
  {
   "cell_type": "code",
   "execution_count": null,
   "id": "214fd610",
   "metadata": {},
   "outputs": [],
   "source": [
    "print()"
   ]
  }
 ],
 "metadata": {
  "kernelspec": {
   "display_name": "Python 3 (ipykernel)",
   "language": "python",
   "name": "python3"
  },
  "language_info": {
   "codemirror_mode": {
    "name": "ipython",
    "version": 3
   },
   "file_extension": ".py",
   "mimetype": "text/x-python",
   "name": "python",
   "nbconvert_exporter": "python",
   "pygments_lexer": "ipython3",
   "version": "3.9.7"
  }
 },
 "nbformat": 4,
 "nbformat_minor": 5
}
